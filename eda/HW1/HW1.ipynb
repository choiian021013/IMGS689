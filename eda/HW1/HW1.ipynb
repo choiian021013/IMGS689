{
 "cells": [
  {
   "cell_type": "code",
   "execution_count": 4,
   "id": "fc9d28d4",
   "metadata": {},
   "outputs": [
    {
     "name": "stderr",
     "output_type": "stream",
     "text": [
      "Matplotlib is building the font cache; this may take a moment.\n"
     ]
    },
    {
     "name": "stdout",
     "output_type": "stream",
     "text": [
      "(954, 716, 12)\n",
      "float64\n"
     ]
    }
   ],
   "source": [
    "import numpy as np\n",
    "import matplotlib.pyplot as plt\n",
    "data = np.load(\"sentinel2_rochester.npy\")\n",
    "\n",
    "print(data.shape)\n",
    "print(data.dtype)"
   ]
  },
  {
   "cell_type": "markdown",
   "id": "994a114e",
   "metadata": {},
   "source": [
    "Problem 1"
   ]
  },
  {
   "cell_type": "code",
   "execution_count": 5,
   "id": "2337b68e",
   "metadata": {},
   "outputs": [],
   "source": [
    "def plot_bands(data, bands, titles):\n",
    "    \n",
    "    n = len(bands)\n",
    "    fig, axes = plt.subplots(1, n, figsize=(5*n, 5))\n",
    "    \n",
    "    for i, band in enumerate(bands):\n",
    "        ax = axes[i] if n > 1 else axes\n",
    "        ax.imshow(data[:, :, band], cmap='gray')\n",
    "        ax.set_title(titles[i])\n",
    "        ax.axis('off')\n",
    "    \n",
    "    plt.show()"
   ]
  }
 ],
 "metadata": {
  "kernelspec": {
   "display_name": ".venv (3.9.6)",
   "language": "python",
   "name": "python3"
  },
  "language_info": {
   "codemirror_mode": {
    "name": "ipython",
    "version": 3
   },
   "file_extension": ".py",
   "mimetype": "text/x-python",
   "name": "python",
   "nbconvert_exporter": "python",
   "pygments_lexer": "ipython3",
   "version": "3.9.6"
  }
 },
 "nbformat": 4,
 "nbformat_minor": 5
}
